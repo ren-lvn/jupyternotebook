{
 "cells": [
  {
   "cell_type": "code",
   "execution_count": 11,
   "metadata": {},
   "outputs": [],
   "source": [
    "from PIL import Image\n",
    "import imageio \n",
    "import numpy as np\n",
    "from sklearn import svm, metrics\n",
    "from sklearn.model_selection import GridSearchCV, train_test_split\n"
   ]
  },
  {
   "cell_type": "code",
   "execution_count": 12,
   "metadata": {},
   "outputs": [],
   "source": [
    "#extracting pictures from a folder\n",
    "#resizing them\n",
    "#creating an array of grayscale values of every picture\n",
    "imageName = []\n",
    "for i in range(10):\n",
    "    for j in range(50):\n",
    "        imageName.append(str(i)+'_'+str(j)+'.png')\n",
    "X=[]\n",
    "for picture in imageName: \n",
    "    img = Image.open(r'C:\\Anaconda\\SVM_DIGIT_RECOGNITION\\raw\\\\'+str(picture))\n",
    "    img3 = img.resize((7, 7), Image.ANTIALIAS)\n",
    "    img3.save('C:\\Anaconda\\SVM_DIGIT_RECOGNITION\\cut\\inter\\\\'+str(picture))\n",
    "    img4= imageio.imread(r'C:\\Anaconda\\SVM_DIGIT_RECOGNITION\\cut\\inter\\\\'+str(picture))#grayscale values\n",
    "    X.append(img4)\n",
    "X=np.array(X)\n",
    "X=X.reshape((500,49))\n",
    "\n",
    "Y=np.arange(10)\n",
    "Y=np.repeat(Y,50)#creating labels"
   ]
  },
  {
   "cell_type": "code",
   "execution_count": 13,
   "metadata": {},
   "outputs": [],
   "source": [
    "#Train|Test split\n",
    "XTrain, XTest, YTrain, YTest = train_test_split(X, Y, test_size=0.2, \n",
    "                                                    random_state=111, shuffle=True)"
   ]
  },
  {
   "cell_type": "code",
   "execution_count": 17,
   "metadata": {},
   "outputs": [
    {
     "name": "stdout",
     "output_type": "stream",
     "text": [
      "best estimator: \n",
      " SVC(C=0.001, cache_size=200, class_weight=None, coef0=0.0,\n",
      "  decision_function_shape='ovr', degree=3, gamma=1e-05, kernel='linear',\n",
      "  max_iter=-1, probability=False, random_state=None, shrinking=True,\n",
      "  tol=0.001, verbose=False)\n",
      "\n",
      "training set eff = 100.0 test set eff= 98.0\n"
     ]
    },
    {
     "name": "stderr",
     "output_type": "stream",
     "text": [
      "C:\\Users\\ren\\Anaconda3\\envs\\py27\\lib\\site-packages\\sklearn\\model_selection\\_search.py:841: DeprecationWarning: The default of the `iid` parameter will change from True to False in version 0.22 and will be removed in 0.24. This will change numeric results when test-set sizes are unequal.\n",
      "  DeprecationWarning)\n"
     ]
    }
   ],
   "source": [
    "#creating a Support vector classifier\n",
    "classifier = svm.SVC()\n",
    "\n",
    "\n",
    "params_grid = {'C': [0.001, 0.01, 0.1, 1, 10, 100],\n",
    "          'gamma': [0.00001, 0.0001, 0.001, 0.01, 0.1],\n",
    "          'kernel':['linear','rbf'] }\n",
    "\n",
    "#Create the GridSearchCV object\n",
    "grid_clf = GridSearchCV(classifier, params_grid, cv=5)\n",
    "\n",
    "#Fit the data with the best possible parameters\n",
    "grid_clf = grid_clf.fit(XTrain, YTrain)\n",
    "\n",
    "#Print the best estimator with it's parameters\n",
    "print('best estimator: \\n',grid_clf.best_estimator_)\n",
    "\n",
    "# predicting on training and test dataset\n",
    "predictionTest = grid_clf.predict(XTest)\n",
    "predictionTrain = grid_clf.predict(XTrain)\n",
    "\n",
    "# calculating efficiencies\n",
    "effTest = 100 * metrics.accuracy_score(YTest, predictionTest, normalize = True)\n",
    "effTrain = 100 * metrics.accuracy_score(YTrain, predictionTrain, normalize = True)\n",
    "\n",
    "print()\n",
    "print('training set eff =', effTrain, 'test set eff=', effTest)\n"
   ]
  }
 ],
 "metadata": {
  "kernelspec": {
   "display_name": "Python [conda env:py27] *",
   "language": "python",
   "name": "conda-env-py27-py"
  },
  "language_info": {
   "codemirror_mode": {
    "name": "ipython",
    "version": 3
   },
   "file_extension": ".py",
   "mimetype": "text/x-python",
   "name": "python",
   "nbconvert_exporter": "python",
   "pygments_lexer": "ipython3",
   "version": "3.6.8"
  }
 },
 "nbformat": 4,
 "nbformat_minor": 2
}
