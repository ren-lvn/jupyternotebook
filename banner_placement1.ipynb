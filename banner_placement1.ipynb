{
 "cells": [
  {
   "cell_type": "code",
   "execution_count": 23,
   "metadata": {},
   "outputs": [],
   "source": [
    "import pandas as pd\n",
    "from sklearn.cluster import MeanShift\n",
    "import numpy as np\n",
    "from numpy.linalg import norm"
   ]
  },
  {
   "cell_type": "code",
   "execution_count": 24,
   "metadata": {},
   "outputs": [
    {
     "data": {
      "text/html": [
       "<div>\n",
       "<style scoped>\n",
       "    .dataframe tbody tr th:only-of-type {\n",
       "        vertical-align: middle;\n",
       "    }\n",
       "\n",
       "    .dataframe tbody tr th {\n",
       "        vertical-align: top;\n",
       "    }\n",
       "\n",
       "    .dataframe thead th {\n",
       "        text-align: right;\n",
       "    }\n",
       "</style>\n",
       "<table border=\"1\" class=\"dataframe\">\n",
       "  <thead>\n",
       "    <tr style=\"text-align: right;\">\n",
       "      <th></th>\n",
       "      <th>id</th>\n",
       "      <th>user_id</th>\n",
       "      <th>venue_id</th>\n",
       "      <th>latitude</th>\n",
       "      <th>longitude</th>\n",
       "      <th>created_at</th>\n",
       "    </tr>\n",
       "  </thead>\n",
       "  <tbody>\n",
       "    <tr>\n",
       "      <th>0</th>\n",
       "      <td>---------+---------+----------+---------------...</td>\n",
       "      <td>NaN</td>\n",
       "      <td>NaN</td>\n",
       "      <td>NaN</td>\n",
       "      <td>NaN</td>\n",
       "      <td>NaN</td>\n",
       "    </tr>\n",
       "    <tr>\n",
       "      <th>1</th>\n",
       "      <td>984301</td>\n",
       "      <td>2041916.0</td>\n",
       "      <td>5222.0</td>\n",
       "      <td>NaN</td>\n",
       "      <td>NaN</td>\n",
       "      <td>2012-04-21 17:39:01</td>\n",
       "    </tr>\n",
       "    <tr>\n",
       "      <th>2</th>\n",
       "      <td>984222</td>\n",
       "      <td>15824.0</td>\n",
       "      <td>5222.0</td>\n",
       "      <td>38.895112</td>\n",
       "      <td>-77.036366</td>\n",
       "      <td>2012-04-21 17:43:47</td>\n",
       "    </tr>\n",
       "    <tr>\n",
       "      <th>3</th>\n",
       "      <td>984315</td>\n",
       "      <td>1764391.0</td>\n",
       "      <td>5222.0</td>\n",
       "      <td>NaN</td>\n",
       "      <td>NaN</td>\n",
       "      <td>2012-04-21 17:37:18</td>\n",
       "    </tr>\n",
       "    <tr>\n",
       "      <th>4</th>\n",
       "      <td>984234</td>\n",
       "      <td>44652.0</td>\n",
       "      <td>5222.0</td>\n",
       "      <td>33.800745</td>\n",
       "      <td>-84.410520</td>\n",
       "      <td>2012-04-21 17:43:43</td>\n",
       "    </tr>\n",
       "  </tbody>\n",
       "</table>\n",
       "</div>"
      ],
      "text/plain": [
       "                                              id       user_id   venue_id   \\\n",
       "0  ---------+---------+----------+---------------...        NaN        NaN   \n",
       "1                                            984301   2041916.0     5222.0   \n",
       "2                                            984222     15824.0     5222.0   \n",
       "3                                            984315   1764391.0     5222.0   \n",
       "4                                            984234     44652.0     5222.0   \n",
       "\n",
       "   latitude        longitude          created_at        \n",
       "0             NaN             NaN                  NaN  \n",
       "1             NaN             NaN  2012-04-21 17:39:01  \n",
       "2       38.895112      -77.036366  2012-04-21 17:43:47  \n",
       "3             NaN             NaN  2012-04-21 17:37:18  \n",
       "4       33.800745      -84.410520  2012-04-21 17:43:43  "
      ]
     },
     "execution_count": 24,
     "metadata": {},
     "output_type": "execute_result"
    }
   ],
   "source": [
    "dataa = pd.read_csv('checkins.dat', sep='|', skipinitialspace = True, header=0)\n",
    "dataa.head()\n"
   ]
  },
  {
   "cell_type": "code",
   "execution_count": 25,
   "metadata": {},
   "outputs": [],
   "source": [
    "#deleting unnecessary spaces in column names\n",
    "dataa.rename(columns=lambda x: x.strip(), inplace=True)\n",
    "\n",
    "dataa.dropna(inplace=True)\n",
    "\n",
    "#taking only coordinates for future banner placement analysis\n",
    "dat_coord = dataa[['latitude','longitude']]\n"
   ]
  },
  {
   "cell_type": "code",
   "execution_count": 26,
   "metadata": {},
   "outputs": [],
   "source": [
    "#creating two sets of data for long and quick training\n",
    "X_full=dat_coord.values\n",
    "\n",
    "X_cut=X_full[:100000,:]\n"
   ]
  },
  {
   "cell_type": "code",
   "execution_count": 27,
   "metadata": {},
   "outputs": [
    {
     "name": "stdout",
     "output_type": "stream",
     "text": [
      "Wall time: 2min 38s\n"
     ]
    }
   ],
   "source": [
    "%%time\n",
    "clustering = MeanShift(bandwidth=0.1).fit(X_cut)"
   ]
  },
  {
   "cell_type": "code",
   "execution_count": 28,
   "metadata": {},
   "outputs": [
    {
     "data": {
      "text/plain": [
       "'\\n%%time\\nclustering = MeanShift(bandwidth=0.1).fit(X_full)\\n'"
      ]
     },
     "execution_count": 28,
     "metadata": {},
     "output_type": "execute_result"
    }
   ],
   "source": [
    "'''\n",
    "%%time\n",
    "clustering = MeanShift(bandwidth=0.1).fit(X_full)\n",
    "'''"
   ]
  },
  {
   "cell_type": "code",
   "execution_count": 29,
   "metadata": {},
   "outputs": [
    {
     "name": "stdout",
     "output_type": "stream",
     "text": [
      "the number of clusters:  3231\n",
      "(3231, 2)\n",
      "[[  40.7177164   -73.99183542]\n",
      " [  33.44943805 -112.00213969]\n",
      " [  33.44638027 -111.90188756]\n",
      " ...\n",
      " [  41.61853175  -88.44556818]\n",
      " [  39.2494686   -77.1821271 ]\n",
      " [  38.65877915  -76.8856871 ]]\n"
     ]
    }
   ],
   "source": [
    "'''we are taking clusters with more than 15 elements for calculating distance to the office'''\n",
    "\n",
    "#labels of each point\n",
    "labels = clustering.labels_\n",
    "\n",
    "#matrix of cluster centers coordinates\n",
    "cluster_centers = clustering.cluster_centers_\n",
    "\n",
    "#calculating the number of elements in each cluster\n",
    "labels_unique, counts = np.unique(labels, return_counts=True)\n",
    "n_clusters_ = len(labels_unique)\n",
    "print ('the number of clusters: ', n_clusters_)\n",
    "print (cluster_centers.shape)\n",
    "\n",
    "#taking clusters with the size >15\n",
    "dict_count=dict(zip(labels_unique, counts))\n",
    "labels_for_over_15=[key for key, value in dict_count.items() if value>15]\n",
    "\n",
    "#taking centers of those classes\n",
    "centers_for_over_15=cluster_centers[labels_for_over_15]\n",
    "print (centers_for_over_15)"
   ]
  },
  {
   "cell_type": "code",
   "execution_count": 30,
   "metadata": {},
   "outputs": [
    {
     "name": "stdout",
     "output_type": "stream",
     "text": [
      "offices: \n",
      " [[ 3.37512770e+01 -1.18188740e+02]\n",
      " [ 2.58677360e+01 -8.03241160e+01]\n",
      " [ 5.15030160e+01 -7.54790000e-02]\n",
      " [ 5.23788940e+01  4.88508400e+00]\n",
      " [ 3.93664870e+01  1.17036146e+02]\n",
      " [-3.38684570e+01  1.51205134e+02]]\n",
      "\n",
      "[[ 44.74257092  16.14371999  74.69906582  79.73425538 191.0327603\n",
      "  237.22725876]\n",
      " [  6.19395917  32.5726786  113.37331719 118.41008135 229.11470442\n",
      "  271.67953165]\n",
      " [  6.29424146  32.47447468 113.2748328  118.31160891 229.01456477\n",
      "  271.58164907]\n",
      " ...\n",
      " [ 30.76605219  17.72133043  88.92117683  93.94890117 205.49405482\n",
      "  251.2583223 ]\n",
      " [ 41.37357142  13.74564883  78.07422497  83.1108233  194.21830835\n",
      "  239.80611351]\n",
      " [ 41.5935783   13.24513413  77.87671339  82.91381403 193.92312447\n",
      "  239.34415107]]\n",
      "\n",
      "the closest claster center for placing a banner\n",
      "[-33.86063043 151.20477593]\n"
     ]
    }
   ],
   "source": [
    "#coordinates of offices\n",
    "offices = np.matrix([[33.751277, -118.188740],[25.867736, -80.324116], [51.503016, -0.075479],[52.378894, 4.885084],[39.366487, 117.036146], [-33.868457, 151.205134]])\n",
    "print ('offices: \\n', offices)\n",
    "print()\n",
    "\n",
    "#calculating distances from the centers of clusters to every office\n",
    "distances=np.zeros((centers_for_over_15.shape[0],offices.shape[0]))\n",
    "\n",
    "for i,j in enumerate(centers_for_over_15):\n",
    "    for k,l in enumerate(offices):\n",
    "        distances[i][k]=norm(j-l)\n",
    "        \n",
    "print (distances)\n",
    "print ()\n",
    "\n",
    "index_answer=np.unravel_index(np.argmin(distances, axis=None), distances.shape)\n",
    "print('the closest claster center for placing a banner')\n",
    "answer=centers_for_over_15[index_answer[0]]\n",
    "print (answer)"
   ]
  },
  {
   "cell_type": "code",
   "execution_count": 31,
   "metadata": {},
   "outputs": [
    {
     "name": "stdout",
     "output_type": "stream",
     "text": [
      "(array([417, 369, 416, ..., 172, 400, 418], dtype=int64), array([5, 3, 1, ..., 5, 5, 5], dtype=int64))\n",
      "20 coordinates\n",
      "[-33.86063043 151.20477593]\n",
      "[52.37296399  4.89231722]\n",
      "[ 25.84567226 -80.3188906 ]\n",
      "[51.50299126 -0.12553729]\n",
      "[  33.80987796 -118.14892381]\n",
      "[ 25.78581242 -80.21793804]\n",
      "[ 25.70534972 -80.28342874]\n",
      "[ 26.01009825 -80.19999059]\n",
      "[  33.88832534 -118.04892817]\n",
      "[  33.87298601 -118.36209115]\n",
      "[  33.97257482 -118.16837067]\n",
      "[ 26.13884379 -80.33434684]\n",
      "[  33.98393587 -118.00740497]\n",
      "[ 26.12086266 -80.15890668]\n",
      "[  33.81730643 -117.89124917]\n",
      "[  34.06039755 -118.24870903]\n",
      "[  33.67430266 -117.85878927]\n",
      "[ 26.20058464 -80.25071613]\n",
      "[  34.03548695 -118.43899772]\n",
      "[  34.13146015 -118.11801181]\n"
     ]
    }
   ],
   "source": [
    "ind = np.unravel_index(np.argsort(distances, axis=None), distances.shape)\n",
    "print (ind)\n",
    "#we get the coordinates at 0 index, a label of office at 1 index \n",
    "\n",
    "#20 closest locations for placing banners\n",
    "print ('20 coordinates')\n",
    "for i in ind[0][:20]:\n",
    "    print (centers_for_over_15[i])"
   ]
  },
  {
   "cell_type": "code",
   "execution_count": null,
   "metadata": {},
   "outputs": [],
   "source": []
  },
  {
   "cell_type": "code",
   "execution_count": null,
   "metadata": {},
   "outputs": [],
   "source": []
  }
 ],
 "metadata": {
  "kernelspec": {
   "display_name": "Python [conda env:py27] *",
   "language": "python",
   "name": "conda-env-py27-py"
  },
  "language_info": {
   "codemirror_mode": {
    "name": "ipython",
    "version": 3
   },
   "file_extension": ".py",
   "mimetype": "text/x-python",
   "name": "python",
   "nbconvert_exporter": "python",
   "pygments_lexer": "ipython3",
   "version": "3.6.8"
  }
 },
 "nbformat": 4,
 "nbformat_minor": 2
}
